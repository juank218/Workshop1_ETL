{
  "cells": [
    {
      "cell_type": "code",
      "execution_count": 22,
      "metadata": {
        "colab": {
          "base_uri": "https://localhost:8080/",
          "height": 206
        },
        "id": "8DDpVPWD-ZS5",
        "outputId": "a86e36d7-4aca-4570-9306-b5c5dbc8d2e7"
      },
      "outputs": [
        {
          "data": {
            "text/html": [
              "<div>\n",
              "<style scoped>\n",
              "    .dataframe tbody tr th:only-of-type {\n",
              "        vertical-align: middle;\n",
              "    }\n",
              "\n",
              "    .dataframe tbody tr th {\n",
              "        vertical-align: top;\n",
              "    }\n",
              "\n",
              "    .dataframe thead th {\n",
              "        text-align: right;\n",
              "    }\n",
              "</style>\n",
              "<table border=\"1\" class=\"dataframe\">\n",
              "  <thead>\n",
              "    <tr style=\"text-align: right;\">\n",
              "      <th></th>\n",
              "      <th>First Name</th>\n",
              "      <th>Last Name</th>\n",
              "      <th>Email</th>\n",
              "      <th>Application Date</th>\n",
              "      <th>Country</th>\n",
              "      <th>YOE</th>\n",
              "      <th>Seniority</th>\n",
              "      <th>Technology</th>\n",
              "      <th>Code Challenge Score</th>\n",
              "      <th>Technical Interview Score</th>\n",
              "    </tr>\n",
              "  </thead>\n",
              "  <tbody>\n",
              "    <tr>\n",
              "      <th>0</th>\n",
              "      <td>Bernadette</td>\n",
              "      <td>Langworth</td>\n",
              "      <td>leonard91@yahoo.com</td>\n",
              "      <td>2021-02-26</td>\n",
              "      <td>Norway</td>\n",
              "      <td>2</td>\n",
              "      <td>Intern</td>\n",
              "      <td>Data Engineer</td>\n",
              "      <td>3</td>\n",
              "      <td>3</td>\n",
              "    </tr>\n",
              "    <tr>\n",
              "      <th>1</th>\n",
              "      <td>Camryn</td>\n",
              "      <td>Reynolds</td>\n",
              "      <td>zelda56@hotmail.com</td>\n",
              "      <td>2021-09-09</td>\n",
              "      <td>Panama</td>\n",
              "      <td>10</td>\n",
              "      <td>Intern</td>\n",
              "      <td>Data Engineer</td>\n",
              "      <td>2</td>\n",
              "      <td>10</td>\n",
              "    </tr>\n",
              "    <tr>\n",
              "      <th>2</th>\n",
              "      <td>Larue</td>\n",
              "      <td>Spinka</td>\n",
              "      <td>okey_schultz41@gmail.com</td>\n",
              "      <td>2020-04-14</td>\n",
              "      <td>Belarus</td>\n",
              "      <td>4</td>\n",
              "      <td>Mid-Level</td>\n",
              "      <td>Client Success</td>\n",
              "      <td>10</td>\n",
              "      <td>9</td>\n",
              "    </tr>\n",
              "    <tr>\n",
              "      <th>3</th>\n",
              "      <td>Arch</td>\n",
              "      <td>Spinka</td>\n",
              "      <td>elvera_kulas@yahoo.com</td>\n",
              "      <td>2020-10-01</td>\n",
              "      <td>Eritrea</td>\n",
              "      <td>25</td>\n",
              "      <td>Trainee</td>\n",
              "      <td>QA Manual</td>\n",
              "      <td>7</td>\n",
              "      <td>1</td>\n",
              "    </tr>\n",
              "    <tr>\n",
              "      <th>4</th>\n",
              "      <td>Larue</td>\n",
              "      <td>Altenwerth</td>\n",
              "      <td>minnie.gislason@gmail.com</td>\n",
              "      <td>2020-05-20</td>\n",
              "      <td>Myanmar</td>\n",
              "      <td>13</td>\n",
              "      <td>Mid-Level</td>\n",
              "      <td>Social Media Community Management</td>\n",
              "      <td>9</td>\n",
              "      <td>7</td>\n",
              "    </tr>\n",
              "  </tbody>\n",
              "</table>\n",
              "</div>"
            ],
            "text/plain": [
              "   First Name   Last Name                      Email Application Date  \\\n",
              "0  Bernadette   Langworth        leonard91@yahoo.com       2021-02-26   \n",
              "1      Camryn    Reynolds        zelda56@hotmail.com       2021-09-09   \n",
              "2       Larue      Spinka   okey_schultz41@gmail.com       2020-04-14   \n",
              "3        Arch      Spinka     elvera_kulas@yahoo.com       2020-10-01   \n",
              "4       Larue  Altenwerth  minnie.gislason@gmail.com       2020-05-20   \n",
              "\n",
              "   Country  YOE  Seniority                         Technology  \\\n",
              "0   Norway    2     Intern                      Data Engineer   \n",
              "1   Panama   10     Intern                      Data Engineer   \n",
              "2  Belarus    4  Mid-Level                     Client Success   \n",
              "3  Eritrea   25    Trainee                          QA Manual   \n",
              "4  Myanmar   13  Mid-Level  Social Media Community Management   \n",
              "\n",
              "   Code Challenge Score  Technical Interview Score  \n",
              "0                     3                          3  \n",
              "1                     2                         10  \n",
              "2                    10                          9  \n",
              "3                     7                          1  \n",
              "4                     9                          7  "
            ]
          },
          "execution_count": 22,
          "metadata": {},
          "output_type": "execute_result"
        }
      ],
      "source": [
        "import pandas as pd\n",
        "\n",
        "df = pd.read_csv(\"raw_data/candidates.csv\", delimiter=';',encoding='unicode_escape')\n",
        "df.head()"
      ]
    },
    {
      "cell_type": "markdown",
      "metadata": {},
      "source": [
        "We are only interested in candidates who have been hired (both scores greater than or equal to 7), so we will create a data frame with candidates who meet these criteria."
      ]
    },
    {
      "cell_type": "code",
      "execution_count": 23,
      "metadata": {},
      "outputs": [],
      "source": [
        "df_contracted = df[(df['Code Challenge Score'] >= 7) & (df['Technical Interview Score'] >= 7)].copy()"
      ]
    },
    {
      "cell_type": "code",
      "execution_count": 24,
      "metadata": {},
      "outputs": [
        {
          "data": {
            "text/html": [
              "<div>\n",
              "<style scoped>\n",
              "    .dataframe tbody tr th:only-of-type {\n",
              "        vertical-align: middle;\n",
              "    }\n",
              "\n",
              "    .dataframe tbody tr th {\n",
              "        vertical-align: top;\n",
              "    }\n",
              "\n",
              "    .dataframe thead th {\n",
              "        text-align: right;\n",
              "    }\n",
              "</style>\n",
              "<table border=\"1\" class=\"dataframe\">\n",
              "  <thead>\n",
              "    <tr style=\"text-align: right;\">\n",
              "      <th></th>\n",
              "      <th>First Name</th>\n",
              "      <th>Last Name</th>\n",
              "      <th>Email</th>\n",
              "      <th>Application Date</th>\n",
              "      <th>Country</th>\n",
              "      <th>YOE</th>\n",
              "      <th>Seniority</th>\n",
              "      <th>Technology</th>\n",
              "      <th>Code Challenge Score</th>\n",
              "      <th>Technical Interview Score</th>\n",
              "    </tr>\n",
              "  </thead>\n",
              "  <tbody>\n",
              "    <tr>\n",
              "      <th>0</th>\n",
              "      <td>Bernadette</td>\n",
              "      <td>Langworth</td>\n",
              "      <td>leonard91@yahoo.com</td>\n",
              "      <td>2021-02-26</td>\n",
              "      <td>Norway</td>\n",
              "      <td>2</td>\n",
              "      <td>Intern</td>\n",
              "      <td>Data Engineer</td>\n",
              "      <td>3</td>\n",
              "      <td>3</td>\n",
              "    </tr>\n",
              "    <tr>\n",
              "      <th>1</th>\n",
              "      <td>Camryn</td>\n",
              "      <td>Reynolds</td>\n",
              "      <td>zelda56@hotmail.com</td>\n",
              "      <td>2021-09-09</td>\n",
              "      <td>Panama</td>\n",
              "      <td>10</td>\n",
              "      <td>Intern</td>\n",
              "      <td>Data Engineer</td>\n",
              "      <td>2</td>\n",
              "      <td>10</td>\n",
              "    </tr>\n",
              "    <tr>\n",
              "      <th>2</th>\n",
              "      <td>Larue</td>\n",
              "      <td>Spinka</td>\n",
              "      <td>okey_schultz41@gmail.com</td>\n",
              "      <td>2020-04-14</td>\n",
              "      <td>Belarus</td>\n",
              "      <td>4</td>\n",
              "      <td>Mid-Level</td>\n",
              "      <td>Client Success</td>\n",
              "      <td>10</td>\n",
              "      <td>9</td>\n",
              "    </tr>\n",
              "    <tr>\n",
              "      <th>3</th>\n",
              "      <td>Arch</td>\n",
              "      <td>Spinka</td>\n",
              "      <td>elvera_kulas@yahoo.com</td>\n",
              "      <td>2020-10-01</td>\n",
              "      <td>Eritrea</td>\n",
              "      <td>25</td>\n",
              "      <td>Trainee</td>\n",
              "      <td>QA Manual</td>\n",
              "      <td>7</td>\n",
              "      <td>1</td>\n",
              "    </tr>\n",
              "    <tr>\n",
              "      <th>4</th>\n",
              "      <td>Larue</td>\n",
              "      <td>Altenwerth</td>\n",
              "      <td>minnie.gislason@gmail.com</td>\n",
              "      <td>2020-05-20</td>\n",
              "      <td>Myanmar</td>\n",
              "      <td>13</td>\n",
              "      <td>Mid-Level</td>\n",
              "      <td>Social Media Community Management</td>\n",
              "      <td>9</td>\n",
              "      <td>7</td>\n",
              "    </tr>\n",
              "  </tbody>\n",
              "</table>\n",
              "</div>"
            ],
            "text/plain": [
              "   First Name   Last Name                      Email Application Date  \\\n",
              "0  Bernadette   Langworth        leonard91@yahoo.com       2021-02-26   \n",
              "1      Camryn    Reynolds        zelda56@hotmail.com       2021-09-09   \n",
              "2       Larue      Spinka   okey_schultz41@gmail.com       2020-04-14   \n",
              "3        Arch      Spinka     elvera_kulas@yahoo.com       2020-10-01   \n",
              "4       Larue  Altenwerth  minnie.gislason@gmail.com       2020-05-20   \n",
              "\n",
              "   Country  YOE  Seniority                         Technology  \\\n",
              "0   Norway    2     Intern                      Data Engineer   \n",
              "1   Panama   10     Intern                      Data Engineer   \n",
              "2  Belarus    4  Mid-Level                     Client Success   \n",
              "3  Eritrea   25    Trainee                          QA Manual   \n",
              "4  Myanmar   13  Mid-Level  Social Media Community Management   \n",
              "\n",
              "   Code Challenge Score  Technical Interview Score  \n",
              "0                     3                          3  \n",
              "1                     2                         10  \n",
              "2                    10                          9  \n",
              "3                     7                          1  \n",
              "4                     9                          7  "
            ]
          },
          "execution_count": 24,
          "metadata": {},
          "output_type": "execute_result"
        }
      ],
      "source": [
        "df.head()"
      ]
    },
    {
      "cell_type": "code",
      "execution_count": 25,
      "metadata": {},
      "outputs": [
        {
          "data": {
            "text/html": [
              "<div>\n",
              "<style scoped>\n",
              "    .dataframe tbody tr th:only-of-type {\n",
              "        vertical-align: middle;\n",
              "    }\n",
              "\n",
              "    .dataframe tbody tr th {\n",
              "        vertical-align: top;\n",
              "    }\n",
              "\n",
              "    .dataframe thead th {\n",
              "        text-align: right;\n",
              "    }\n",
              "</style>\n",
              "<table border=\"1\" class=\"dataframe\">\n",
              "  <thead>\n",
              "    <tr style=\"text-align: right;\">\n",
              "      <th></th>\n",
              "      <th>First Name</th>\n",
              "      <th>Last Name</th>\n",
              "      <th>Email</th>\n",
              "      <th>Application Date</th>\n",
              "      <th>Country</th>\n",
              "      <th>YOE</th>\n",
              "      <th>Seniority</th>\n",
              "      <th>Technology</th>\n",
              "      <th>Code Challenge Score</th>\n",
              "      <th>Technical Interview Score</th>\n",
              "    </tr>\n",
              "  </thead>\n",
              "  <tbody>\n",
              "    <tr>\n",
              "      <th>2</th>\n",
              "      <td>Larue</td>\n",
              "      <td>Spinka</td>\n",
              "      <td>okey_schultz41@gmail.com</td>\n",
              "      <td>2020-04-14</td>\n",
              "      <td>Belarus</td>\n",
              "      <td>4</td>\n",
              "      <td>Mid-Level</td>\n",
              "      <td>Client Success</td>\n",
              "      <td>10</td>\n",
              "      <td>9</td>\n",
              "    </tr>\n",
              "    <tr>\n",
              "      <th>4</th>\n",
              "      <td>Larue</td>\n",
              "      <td>Altenwerth</td>\n",
              "      <td>minnie.gislason@gmail.com</td>\n",
              "      <td>2020-05-20</td>\n",
              "      <td>Myanmar</td>\n",
              "      <td>13</td>\n",
              "      <td>Mid-Level</td>\n",
              "      <td>Social Media Community Management</td>\n",
              "      <td>9</td>\n",
              "      <td>7</td>\n",
              "    </tr>\n",
              "    <tr>\n",
              "      <th>8</th>\n",
              "      <td>Mose</td>\n",
              "      <td>Lakin</td>\n",
              "      <td>dale_murazik@hotmail.com</td>\n",
              "      <td>2018-03-13</td>\n",
              "      <td>Italy</td>\n",
              "      <td>18</td>\n",
              "      <td>Lead</td>\n",
              "      <td>Social Media Community Management</td>\n",
              "      <td>7</td>\n",
              "      <td>10</td>\n",
              "    </tr>\n",
              "    <tr>\n",
              "      <th>13</th>\n",
              "      <td>Hilda</td>\n",
              "      <td>Rodriguez</td>\n",
              "      <td>jordan.hyatt@hotmail.com</td>\n",
              "      <td>2020-05-09</td>\n",
              "      <td>El Salvador</td>\n",
              "      <td>16</td>\n",
              "      <td>Junior</td>\n",
              "      <td>System Administration</td>\n",
              "      <td>7</td>\n",
              "      <td>8</td>\n",
              "    </tr>\n",
              "    <tr>\n",
              "      <th>22</th>\n",
              "      <td>Crawford</td>\n",
              "      <td>Ullrich</td>\n",
              "      <td>bruce.koch7@yahoo.com</td>\n",
              "      <td>2021-01-09</td>\n",
              "      <td>Dominica</td>\n",
              "      <td>14</td>\n",
              "      <td>Junior</td>\n",
              "      <td>Game Development</td>\n",
              "      <td>8</td>\n",
              "      <td>8</td>\n",
              "    </tr>\n",
              "  </tbody>\n",
              "</table>\n",
              "</div>"
            ],
            "text/plain": [
              "   First Name   Last Name                      Email Application Date  \\\n",
              "2       Larue      Spinka   okey_schultz41@gmail.com       2020-04-14   \n",
              "4       Larue  Altenwerth  minnie.gislason@gmail.com       2020-05-20   \n",
              "8        Mose       Lakin   dale_murazik@hotmail.com       2018-03-13   \n",
              "13      Hilda   Rodriguez   jordan.hyatt@hotmail.com       2020-05-09   \n",
              "22   Crawford     Ullrich      bruce.koch7@yahoo.com       2021-01-09   \n",
              "\n",
              "        Country  YOE  Seniority                         Technology  \\\n",
              "2       Belarus    4  Mid-Level                     Client Success   \n",
              "4       Myanmar   13  Mid-Level  Social Media Community Management   \n",
              "8         Italy   18       Lead  Social Media Community Management   \n",
              "13  El Salvador   16     Junior              System Administration   \n",
              "22     Dominica   14     Junior                   Game Development   \n",
              "\n",
              "    Code Challenge Score  Technical Interview Score  \n",
              "2                     10                          9  \n",
              "4                      9                          7  \n",
              "8                      7                         10  \n",
              "13                     7                          8  \n",
              "22                     8                          8  "
            ]
          },
          "execution_count": 25,
          "metadata": {},
          "output_type": "execute_result"
        }
      ],
      "source": [
        "df_contracted.head()"
      ]
    },
    {
      "cell_type": "code",
      "execution_count": 26,
      "metadata": {},
      "outputs": [
        {
          "data": {
            "text/plain": [
              "First Name                   object\n",
              "Last Name                    object\n",
              "Email                        object\n",
              "Application Date             object\n",
              "Country                      object\n",
              "YOE                           int64\n",
              "Seniority                    object\n",
              "Technology                   object\n",
              "Code Challenge Score          int64\n",
              "Technical Interview Score     int64\n",
              "dtype: object"
            ]
          },
          "execution_count": 26,
          "metadata": {},
          "output_type": "execute_result"
        }
      ],
      "source": [
        "df_contracted.dtypes"
      ]
    },
    {
      "cell_type": "markdown",
      "metadata": {},
      "source": [
        "To extract the year from the date, we will convert that value to a datetime format and then move the data to its own column."
      ]
    },
    {
      "cell_type": "code",
      "execution_count": 27,
      "metadata": {},
      "outputs": [],
      "source": [
        "df_contracted['Application Date'] = pd.to_datetime(df_contracted['Application Date'], errors='coerce')"
      ]
    },
    {
      "cell_type": "code",
      "execution_count": 28,
      "metadata": {},
      "outputs": [],
      "source": [
        "df_contracted['Application Year'] = df_contracted['Application Date'].dt.year"
      ]
    },
    {
      "cell_type": "code",
      "execution_count": 29,
      "metadata": {},
      "outputs": [
        {
          "data": {
            "text/html": [
              "<div>\n",
              "<style scoped>\n",
              "    .dataframe tbody tr th:only-of-type {\n",
              "        vertical-align: middle;\n",
              "    }\n",
              "\n",
              "    .dataframe tbody tr th {\n",
              "        vertical-align: top;\n",
              "    }\n",
              "\n",
              "    .dataframe thead th {\n",
              "        text-align: right;\n",
              "    }\n",
              "</style>\n",
              "<table border=\"1\" class=\"dataframe\">\n",
              "  <thead>\n",
              "    <tr style=\"text-align: right;\">\n",
              "      <th></th>\n",
              "      <th>First Name</th>\n",
              "      <th>Last Name</th>\n",
              "      <th>Email</th>\n",
              "      <th>Application Date</th>\n",
              "      <th>Country</th>\n",
              "      <th>YOE</th>\n",
              "      <th>Seniority</th>\n",
              "      <th>Technology</th>\n",
              "      <th>Code Challenge Score</th>\n",
              "      <th>Technical Interview Score</th>\n",
              "      <th>Application Year</th>\n",
              "    </tr>\n",
              "  </thead>\n",
              "  <tbody>\n",
              "    <tr>\n",
              "      <th>2</th>\n",
              "      <td>Larue</td>\n",
              "      <td>Spinka</td>\n",
              "      <td>okey_schultz41@gmail.com</td>\n",
              "      <td>2020-04-14</td>\n",
              "      <td>Belarus</td>\n",
              "      <td>4</td>\n",
              "      <td>Mid-Level</td>\n",
              "      <td>Client Success</td>\n",
              "      <td>10</td>\n",
              "      <td>9</td>\n",
              "      <td>2020</td>\n",
              "    </tr>\n",
              "    <tr>\n",
              "      <th>4</th>\n",
              "      <td>Larue</td>\n",
              "      <td>Altenwerth</td>\n",
              "      <td>minnie.gislason@gmail.com</td>\n",
              "      <td>2020-05-20</td>\n",
              "      <td>Myanmar</td>\n",
              "      <td>13</td>\n",
              "      <td>Mid-Level</td>\n",
              "      <td>Social Media Community Management</td>\n",
              "      <td>9</td>\n",
              "      <td>7</td>\n",
              "      <td>2020</td>\n",
              "    </tr>\n",
              "    <tr>\n",
              "      <th>8</th>\n",
              "      <td>Mose</td>\n",
              "      <td>Lakin</td>\n",
              "      <td>dale_murazik@hotmail.com</td>\n",
              "      <td>2018-03-13</td>\n",
              "      <td>Italy</td>\n",
              "      <td>18</td>\n",
              "      <td>Lead</td>\n",
              "      <td>Social Media Community Management</td>\n",
              "      <td>7</td>\n",
              "      <td>10</td>\n",
              "      <td>2018</td>\n",
              "    </tr>\n",
              "    <tr>\n",
              "      <th>13</th>\n",
              "      <td>Hilda</td>\n",
              "      <td>Rodriguez</td>\n",
              "      <td>jordan.hyatt@hotmail.com</td>\n",
              "      <td>2020-05-09</td>\n",
              "      <td>El Salvador</td>\n",
              "      <td>16</td>\n",
              "      <td>Junior</td>\n",
              "      <td>System Administration</td>\n",
              "      <td>7</td>\n",
              "      <td>8</td>\n",
              "      <td>2020</td>\n",
              "    </tr>\n",
              "    <tr>\n",
              "      <th>22</th>\n",
              "      <td>Crawford</td>\n",
              "      <td>Ullrich</td>\n",
              "      <td>bruce.koch7@yahoo.com</td>\n",
              "      <td>2021-01-09</td>\n",
              "      <td>Dominica</td>\n",
              "      <td>14</td>\n",
              "      <td>Junior</td>\n",
              "      <td>Game Development</td>\n",
              "      <td>8</td>\n",
              "      <td>8</td>\n",
              "      <td>2021</td>\n",
              "    </tr>\n",
              "  </tbody>\n",
              "</table>\n",
              "</div>"
            ],
            "text/plain": [
              "   First Name   Last Name                      Email Application Date  \\\n",
              "2       Larue      Spinka   okey_schultz41@gmail.com       2020-04-14   \n",
              "4       Larue  Altenwerth  minnie.gislason@gmail.com       2020-05-20   \n",
              "8        Mose       Lakin   dale_murazik@hotmail.com       2018-03-13   \n",
              "13      Hilda   Rodriguez   jordan.hyatt@hotmail.com       2020-05-09   \n",
              "22   Crawford     Ullrich      bruce.koch7@yahoo.com       2021-01-09   \n",
              "\n",
              "        Country  YOE  Seniority                         Technology  \\\n",
              "2       Belarus    4  Mid-Level                     Client Success   \n",
              "4       Myanmar   13  Mid-Level  Social Media Community Management   \n",
              "8         Italy   18       Lead  Social Media Community Management   \n",
              "13  El Salvador   16     Junior              System Administration   \n",
              "22     Dominica   14     Junior                   Game Development   \n",
              "\n",
              "    Code Challenge Score  Technical Interview Score  Application Year  \n",
              "2                     10                          9              2020  \n",
              "4                      9                          7              2020  \n",
              "8                      7                         10              2018  \n",
              "13                     7                          8              2020  \n",
              "22                     8                          8              2021  "
            ]
          },
          "execution_count": 29,
          "metadata": {},
          "output_type": "execute_result"
        }
      ],
      "source": [
        "df_contracted.head()"
      ]
    },
    {
      "cell_type": "markdown",
      "metadata": {},
      "source": [
        "For the analysis, we'll examine the following:\n",
        "- null values.\n",
        "- Basic Statistical summary of the numerical columns.\n",
        "- Distribution of candidates by country.\n",
        "- Distribution of candidates by technology.\n",
        "- Distribution of candidates by year of application."
      ]
    },
    {
      "cell_type": "code",
      "execution_count": 30,
      "metadata": {},
      "outputs": [
        {
          "data": {
            "text/plain": [
              "First Name                   0\n",
              "Last Name                    0\n",
              "Email                        0\n",
              "Application Date             0\n",
              "Country                      0\n",
              "YOE                          0\n",
              "Seniority                    0\n",
              "Technology                   0\n",
              "Code Challenge Score         0\n",
              "Technical Interview Score    0\n",
              "Application Year             0\n",
              "dtype: int64"
            ]
          },
          "execution_count": 30,
          "metadata": {},
          "output_type": "execute_result"
        }
      ],
      "source": [
        "df_contracted.isnull().sum()"
      ]
    },
    {
      "cell_type": "markdown",
      "metadata": {},
      "source": [
        "Using the information provided by the function df.isnull().sum(), we can conclude that the dataset has no null values"
      ]
    },
    {
      "cell_type": "code",
      "execution_count": 31,
      "metadata": {},
      "outputs": [
        {
          "name": "stdout",
          "output_type": "stream",
          "text": [
            "                    Application Date          YOE  Code Challenge Score  \\\n",
            "count                           6698  6698.000000           6698.000000   \n",
            "mean   2020-04-10 23:23:40.005972224    15.291281              8.500000   \n",
            "min              2018-01-01 00:00:00     0.000000              7.000000   \n",
            "25%              2019-03-07 00:00:00     8.000000              8.000000   \n",
            "50%              2020-04-09 00:00:00    15.000000              8.000000   \n",
            "75%              2021-05-26 00:00:00    23.000000              9.000000   \n",
            "max              2022-07-04 00:00:00    30.000000             10.000000   \n",
            "std                              NaN     8.843949              1.110748   \n",
            "\n",
            "       Technical Interview Score  Application Year  \n",
            "count                6698.000000       6698.000000  \n",
            "mean                    8.479248       2019.810839  \n",
            "min                     7.000000       2018.000000  \n",
            "25%                     7.000000       2019.000000  \n",
            "50%                     8.000000       2020.000000  \n",
            "75%                     9.000000       2021.000000  \n",
            "max                    10.000000       2022.000000  \n",
            "std                     1.126308          1.315268  \n"
          ]
        }
      ],
      "source": [
        "numeric_summary = df_contracted.describe()\n",
        "print(numeric_summary)"
      ]
    },
    {
      "cell_type": "markdown",
      "metadata": {},
      "source": [
        "Summary statistics:\n",
        "Years of experience (YOE):  show that candidates have between 0 and 30 years of experience, with a mean of approximately 15 years.\n",
        "\n",
        "Code challenge and technical interview scores: Both scores range from 0 to 10, with means close to 5, suggesting an even distribution."
      ]
    },
    {
      "cell_type": "code",
      "execution_count": 32,
      "metadata": {},
      "outputs": [
        {
          "name": "stdout",
          "output_type": "stream",
          "text": [
            "Country\n",
            "Northern Mariana Islands             44\n",
            "Heard Island and McDonald Islands    41\n",
            "Sri Lanka                            40\n",
            "Seychelles                           40\n",
            "Niger                                40\n",
            "                                     ..\n",
            "Canada                               18\n",
            "Maldives                             16\n",
            "Saint Vincent and the Grenadines     16\n",
            "Montenegro                           15\n",
            "Guam                                 15\n",
            "Name: count, Length: 244, dtype: int64\n"
          ]
        }
      ],
      "source": [
        "country_distribution = df_contracted[\"Country\"].value_counts()\n",
        "print(country_distribution)"
      ]
    },
    {
      "cell_type": "markdown",
      "metadata": {},
      "source": [
        "Distribution of candidates by country: \n",
        "Candidates come from a wide variety of countries, with \"Northern Mariana Islands\" and \"Heard Island and McDonald Islands\" being the most represented at the top."
      ]
    },
    {
      "cell_type": "code",
      "execution_count": 33,
      "metadata": {},
      "outputs": [
        {
          "name": "stdout",
          "output_type": "stream",
          "text": [
            "Technology\n",
            "Game Development                           519\n",
            "DevOps                                     495\n",
            "System Administration                      293\n",
            "Development - CMS Backend                  284\n",
            "Database Administration                    282\n",
            "Adobe Experience Manager                   282\n",
            "Client Success                             271\n",
            "Security                                   266\n",
            "Development - Frontend                     266\n",
            "Mulesoft                                   260\n",
            "QA Manual                                  259\n",
            "Salesforce                                 256\n",
            "Development - Backend                      255\n",
            "Business Analytics / Project Management    255\n",
            "Data Engineer                              255\n",
            "Development - FullStack                    254\n",
            "Business Intelligence                      254\n",
            "Development - CMS Frontend                 251\n",
            "Security Compliance                        250\n",
            "Design                                     249\n",
            "QA Automation                              243\n",
            "Sales                                      239\n",
            "Social Media Community Management          237\n",
            "Technical Writing                          223\n",
            "Name: count, dtype: int64\n"
          ]
        }
      ],
      "source": [
        "technology_distribution = df_contracted[\"Technology\"].value_counts()\n",
        "print(technology_distribution)"
      ]
    },
    {
      "cell_type": "markdown",
      "metadata": {},
      "source": [
        "Distribution of candidates by technology:\n",
        "The most popular technologies among candidates are, by far, Game Development and DevOps. The other technologies seem to be evenly distributed."
      ]
    },
    {
      "cell_type": "code",
      "execution_count": 34,
      "metadata": {},
      "outputs": [
        {
          "name": "stdout",
          "output_type": "stream",
          "text": [
            "Application Year\n",
            "2019    1524\n",
            "2020    1485\n",
            "2021    1485\n",
            "2018    1409\n",
            "2022     795\n",
            "Name: count, dtype: int64\n"
          ]
        }
      ],
      "source": [
        "year_distribution = df_contracted[\"Application Year\"].value_counts()\n",
        "print(year_distribution)"
      ]
    },
    {
      "cell_type": "markdown",
      "metadata": {},
      "source": [
        "Distribution of candidates by year of application:\n",
        "Most applications are relatively evenly distributed between 2018 and 2021, with a surprisingly smaller number in 2022.\n",
        "\n",
        "Also, fewer candidates are hired as time passes."
      ]
    },
    {
      "cell_type": "code",
      "execution_count": 35,
      "metadata": {},
      "outputs": [],
      "source": [
        "df_contracted.to_csv('data/candidates_clean.csv', index=False)"
      ]
    },
    {
      "cell_type": "markdown",
      "metadata": {},
      "source": [
        "Transformation of the clean df to the new clean csv that will be used to migrate to the database"
      ]
    }
  ],
  "metadata": {
    "colab": {
      "provenance": []
    },
    "kernelspec": {
      "display_name": "Python 3",
      "name": "python3"
    },
    "language_info": {
      "codemirror_mode": {
        "name": "ipython",
        "version": 3
      },
      "file_extension": ".py",
      "mimetype": "text/x-python",
      "name": "python",
      "nbconvert_exporter": "python",
      "pygments_lexer": "ipython3",
      "version": "3.11.9"
    }
  },
  "nbformat": 4,
  "nbformat_minor": 0
}
